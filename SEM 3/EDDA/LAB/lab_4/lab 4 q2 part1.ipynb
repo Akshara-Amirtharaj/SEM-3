{
 "cells": [
  {
   "cell_type": "code",
   "execution_count": 24,
   "id": "d645dc91",
   "metadata": {},
   "outputs": [],
   "source": [
    "import pandas as pd\n",
    "from sklearn.linear_model import LinearRegression\n",
    "from sklearn.datasets import make_friedman1"
   ]
  },
  {
   "cell_type": "code",
   "execution_count": 15,
   "id": "235ef79e",
   "metadata": {},
   "outputs": [
    {
     "data": {
      "text/plain": [
       "array([16.83826156,  5.86968919,  9.45737165, 21.29818121, 16.61008184,\n",
       "       22.83735821, 10.38662987, 21.21547558, 12.69134012, 13.47560394,\n",
       "       10.94077686, 16.40332854, 10.53641573, 13.85231999, 11.33172011,\n",
       "       18.66039324, 12.83883023,  5.84676689, 14.88326076, 13.82711306,\n",
       "       15.99655958, 15.5593339 , 17.52859156, 15.52539146, 10.39690378,\n",
       "        9.97005912, 21.58151215, 23.21168303, 12.2460511 ,  6.35441813,\n",
       "       10.89943302, 19.39208124, 17.52179215, 13.6033958 , 15.14503626,\n",
       "       12.25136819, 17.262863  , 10.53323182, 15.34032629, 19.38719671,\n",
       "       12.74791444, 21.10640507, 17.81249798,  5.06581029, 10.68602018,\n",
       "       19.51994146, 14.22943549, 16.09425184, 19.04879925, 12.94718456,\n",
       "       21.51733991, 19.84702032, 23.5546805 , 19.88343865, 20.97915305,\n",
       "       19.88815835,  9.08122912, 20.28403287, 16.3323363 , 12.72346846,\n",
       "        5.04981702,  6.49834414,  9.4826534 , 14.92669246,  5.74210399,\n",
       "       11.22493428, 12.03340584, 15.51366554, 19.64666825,  7.19188333,\n",
       "        3.06099926, 15.76926875, 19.13407284, 11.6515585 , 11.65638452,\n",
       "        7.75497815, 10.3521813 , 13.63431824, 14.85520752,  8.99265575,\n",
       "       11.62888689, 21.56876695,  7.33994348,  9.97391783, 12.70016204,\n",
       "       13.26313511, 15.35523754,  7.75115812, 14.34067094, 18.81340559,\n",
       "       10.14047755, 11.93152845, 22.94928005, 14.3826741 , 14.38040808,\n",
       "       22.85003703,  8.19585515, 12.66453734, 14.72706187, 18.59472222])"
      ]
     },
     "execution_count": 15,
     "metadata": {},
     "output_type": "execute_result"
    }
   ],
   "source": [
    "x,y=make_friedman1(n_samples=100,n_features=10,random_state=42)"
   ]
  },
  {
   "cell_type": "code",
   "execution_count": 21,
   "id": "8b1dd3fd",
   "metadata": {},
   "outputs": [],
   "source": [
    "x_df=pd.DataFrame(data=x,columns=[f'Feature_{i}' for i in range(1,11)])\n",
    "y_df=pd.DataFrame(data=y,columns=['Target'])"
   ]
  },
  {
   "cell_type": "code",
   "execution_count": 33,
   "id": "6d48c347",
   "metadata": {},
   "outputs": [],
   "source": [
    "feature_list=list(x_df.columns)"
   ]
  },
  {
   "cell_type": "code",
   "execution_count": 22,
   "id": "4d6aba5d",
   "metadata": {},
   "outputs": [
    {
     "data": {
      "text/plain": [
       "(100, 10)"
      ]
     },
     "execution_count": 22,
     "metadata": {},
     "output_type": "execute_result"
    }
   ],
   "source": [
    "x_df.shape"
   ]
  },
  {
   "cell_type": "code",
   "execution_count": 46,
   "id": "ebc52a4d",
   "metadata": {},
   "outputs": [
    {
     "data": {
      "text/plain": [
       "(100, 3)"
      ]
     },
     "execution_count": 46,
     "metadata": {},
     "output_type": "execute_result"
    }
   ],
   "source": [
    "from sklearn.feature_selection import RFE\n",
    "regression=LinearRegression()\n",
    "selector=RFE(regression,n_features_to_select=3)\n",
    "\n",
    "x_selected=selector.fit_transform(x_df,y_df)\n",
    "x_selected.shape"
   ]
  },
  {
   "cell_type": "code",
   "execution_count": 47,
   "id": "6ed4f653",
   "metadata": {},
   "outputs": [
    {
     "name": "stdout",
     "output_type": "stream",
     "text": [
      "Selected features: [ True  True False  True False False False False False False]\n",
      "Feature ranking: [1 1 6 1 2 3 7 4 8 5]\n"
     ]
    }
   ],
   "source": [
    "print(\"Selected features:\", selector.support_)\n",
    "print(\"Feature ranking:\", selector.ranking_)"
   ]
  },
  {
   "cell_type": "code",
   "execution_count": null,
   "id": "60d193bf",
   "metadata": {},
   "outputs": [],
   "source": []
  }
 ],
 "metadata": {
  "kernelspec": {
   "display_name": "Python 3 (ipykernel)",
   "language": "python",
   "name": "python3"
  },
  "language_info": {
   "codemirror_mode": {
    "name": "ipython",
    "version": 3
   },
   "file_extension": ".py",
   "mimetype": "text/x-python",
   "name": "python",
   "nbconvert_exporter": "python",
   "pygments_lexer": "ipython3",
   "version": "3.11.5"
  }
 },
 "nbformat": 4,
 "nbformat_minor": 5
}
