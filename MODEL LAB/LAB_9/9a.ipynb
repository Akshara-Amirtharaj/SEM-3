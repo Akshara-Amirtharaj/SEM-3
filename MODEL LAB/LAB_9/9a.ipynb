{
 "cells": [
  {
   "cell_type": "code",
   "execution_count": 108,
   "id": "1fcc8e7c-5cfd-43e0-b949-d5363ece3094",
   "metadata": {},
   "outputs": [],
   "source": [
    "from tensorflow.keras.datasets import mnist\n",
    "import numpy as np\n",
    "\n",
    "(x, y), _ = mnist.load_data()\n"
   ]
  },
  {
   "cell_type": "code",
   "execution_count": 109,
   "id": "faaf4753-46ed-4e23-81cf-ea918f002f6c",
   "metadata": {},
   "outputs": [],
   "source": [
    "from sklearn.model_selection import train_test_split\n",
    "x_train,x_test,y_train,y_test=train_test_split(x,y,test_size=0.3)"
   ]
  },
  {
   "cell_type": "code",
   "execution_count": 110,
   "id": "169a8a84-f4fa-44f0-8beb-476973a9ebdb",
   "metadata": {},
   "outputs": [
    {
     "data": {
      "text/plain": [
       "0"
      ]
     },
     "execution_count": 110,
     "metadata": {},
     "output_type": "execute_result"
    }
   ],
   "source": [
    "y_train[-1]"
   ]
  },
  {
   "cell_type": "code",
   "execution_count": 111,
   "id": "0f51b3ca-8934-4cbf-82ba-1515956b6279",
   "metadata": {},
   "outputs": [],
   "source": [
    "digit_6=x_train[y_train==6]\n",
    "digit_9=x_train[y_train==9]"
   ]
  },
  {
   "cell_type": "code",
   "execution_count": 112,
   "id": "9a5593a8-1c8e-4aeb-9e24-4afa61ce5330",
   "metadata": {},
   "outputs": [],
   "source": [
    "x_train_69=np.vstack((digit_6,digit_9))\n",
    "y_train_69=np.hstack((np.ones(len(digit_6)),np.zeros(len(digit_9))))"
   ]
  },
  {
   "cell_type": "code",
   "execution_count": 113,
   "id": "28ff9178-fb5a-4de4-a6dc-8256daa148fc",
   "metadata": {},
   "outputs": [],
   "source": [
    "from sklearn.utils import shuffle\n",
    "x_train_69,y_train_69=shuffle(x_train_69,y_train_69,random_state=1729)"
   ]
  },
  {
   "cell_type": "code",
   "execution_count": 114,
   "id": "dcf37f0e-6ade-468e-858f-f8c0de8ceb30",
   "metadata": {},
   "outputs": [],
   "source": [
    "test_digit_6=x_test[y_test==6]\n",
    "test_digit_9=x_test[y_test==9]"
   ]
  },
  {
   "cell_type": "code",
   "execution_count": 115,
   "id": "ebed91f9-f86f-43e9-95fc-24bb6f419015",
   "metadata": {},
   "outputs": [],
   "source": [
    "x_test_69=np.vstack((test_digit_6,test_digit_9))\n",
    "y_test_69=np.hstack((np.ones(len(test_digit_6)),np.zeros(len(test_digit_9))))"
   ]
  },
  {
   "cell_type": "code",
   "execution_count": 116,
   "id": "ca05ae2c-f15e-4a47-b7ad-0c912a909525",
   "metadata": {},
   "outputs": [],
   "source": [
    "x_test_69,y_test_69=shuffle(x_test_69,y_test_69,random_state=1729)"
   ]
  },
  {
   "cell_type": "code",
   "execution_count": 117,
   "id": "d4317d0b-0e42-4186-add7-5c35ea0c31c1",
   "metadata": {},
   "outputs": [
    {
     "name": "stdout",
     "output_type": "stream",
     "text": [
      "4141.0\n"
     ]
    }
   ],
   "source": [
    "print(y_train_69.sum())"
   ]
  },
  {
   "cell_type": "code",
   "execution_count": 118,
   "id": "332fd86e-e2b2-4c41-b419-1caf64e73ebb",
   "metadata": {},
   "outputs": [
    {
     "name": "stdout",
     "output_type": "stream",
     "text": [
      "1777.0\n"
     ]
    }
   ],
   "source": [
    "print(y_test_69.sum())"
   ]
  },
  {
   "cell_type": "code",
   "execution_count": 119,
   "id": "7c9be9d6-83ce-4ea4-9a82-fc1c22c4a7b7",
   "metadata": {},
   "outputs": [],
   "source": [
    "x_train_69_reshaped=x_train_69.reshape(x_train_69.shape[0],28*28)"
   ]
  },
  {
   "cell_type": "code",
   "execution_count": 120,
   "id": "34e44b76-b0c1-4713-aab1-34e99b53b6cb",
   "metadata": {},
   "outputs": [],
   "source": [
    "from sklearn.preprocessing import StandardScaler\n",
    "scaler=StandardScaler()\n",
    "x_train_69tf=scaler.fit_transform(x_train_69_reshaped)"
   ]
  },
  {
   "cell_type": "code",
   "execution_count": 121,
   "id": "c29a669e-ac21-474b-b993-f70fb1e62598",
   "metadata": {},
   "outputs": [
    {
     "name": "stdout",
     "output_type": "stream",
     "text": [
      "Mean of zeroth sample: -0.009087434822435961\n",
      "Mean of zeroth feature: 0.0\n",
      "Standard deviation of zeroth sample: 0.6005142289556731\n",
      "Standard deviation of zeroth feature: 0.0\n"
     ]
    }
   ],
   "source": [
    "mean_zeroth_sample = np.mean(x_train_69tf[0])\n",
    "mean_zeroth_feature = np.mean(x_train_69tf[:, 0])\n",
    "std_zeroth_sample = np.std(x_train_69tf[0])\n",
    "std_zeroth_feature = np.std(x_train_69tf[:, 0])\n",
    "\n",
    "print(\"Mean of zeroth sample:\", mean_zeroth_sample)\n",
    "print(\"Mean of zeroth feature:\", mean_zeroth_feature)\n",
    "print(\"Standard deviation of zeroth sample:\", std_zeroth_sample)\n",
    "print(\"Standard deviation of zeroth feature:\", std_zeroth_feature)"
   ]
  },
  {
   "cell_type": "code",
   "execution_count": 122,
   "id": "f5495f34-c151-49d6-9cdb-4be094568d41",
   "metadata": {},
   "outputs": [],
   "source": [
    "from sklearn.linear_model import SGDClassifier\n",
    "from sklearn.metrics import log_loss"
   ]
  },
  {
   "cell_type": "code",
   "execution_count": 123,
   "id": "b91cc793-e853-4392-9856-9f7ef9642e2a",
   "metadata": {},
   "outputs": [],
   "source": [
    "x_train, x_test, y_train, y_test = train_test_split(x_train_69tf, y_train_69, test_size=0.3, random_state=10)"
   ]
  },
  {
   "cell_type": "code",
   "execution_count": 124,
   "id": "fcb7e684-1896-4988-8247-c527ff1a954f",
   "metadata": {},
   "outputs": [
    {
     "name": "stderr",
     "output_type": "stream",
     "text": [
      "C:\\Users\\aksha\\anaconda3\\Lib\\site-packages\\sklearn\\linear_model\\_stochastic_gradient.py:723: ConvergenceWarning: Maximum number of iteration reached before convergence. Consider increasing max_iter to improve the fit.\n",
      "  warnings.warn(\n",
      "C:\\Users\\aksha\\anaconda3\\Lib\\site-packages\\sklearn\\linear_model\\_stochastic_gradient.py:723: ConvergenceWarning: Maximum number of iteration reached before convergence. Consider increasing max_iter to improve the fit.\n",
      "  warnings.warn(\n",
      "C:\\Users\\aksha\\anaconda3\\Lib\\site-packages\\sklearn\\linear_model\\_stochastic_gradient.py:723: ConvergenceWarning: Maximum number of iteration reached before convergence. Consider increasing max_iter to improve the fit.\n",
      "  warnings.warn(\n",
      "C:\\Users\\aksha\\anaconda3\\Lib\\site-packages\\sklearn\\linear_model\\_stochastic_gradient.py:723: ConvergenceWarning: Maximum number of iteration reached before convergence. Consider increasing max_iter to improve the fit.\n",
      "  warnings.warn(\n",
      "C:\\Users\\aksha\\anaconda3\\Lib\\site-packages\\sklearn\\linear_model\\_stochastic_gradient.py:723: ConvergenceWarning: Maximum number of iteration reached before convergence. Consider increasing max_iter to improve the fit.\n",
      "  warnings.warn(\n",
      "C:\\Users\\aksha\\anaconda3\\Lib\\site-packages\\sklearn\\linear_model\\_stochastic_gradient.py:723: ConvergenceWarning: Maximum number of iteration reached before convergence. Consider increasing max_iter to improve the fit.\n",
      "  warnings.warn(\n",
      "C:\\Users\\aksha\\anaconda3\\Lib\\site-packages\\sklearn\\linear_model\\_stochastic_gradient.py:723: ConvergenceWarning: Maximum number of iteration reached before convergence. Consider increasing max_iter to improve the fit.\n",
      "  warnings.warn(\n",
      "C:\\Users\\aksha\\anaconda3\\Lib\\site-packages\\sklearn\\linear_model\\_stochastic_gradient.py:723: ConvergenceWarning: Maximum number of iteration reached before convergence. Consider increasing max_iter to improve the fit.\n",
      "  warnings.warn(\n",
      "C:\\Users\\aksha\\anaconda3\\Lib\\site-packages\\sklearn\\linear_model\\_stochastic_gradient.py:723: ConvergenceWarning: Maximum number of iteration reached before convergence. Consider increasing max_iter to improve the fit.\n",
      "  warnings.warn(\n",
      "C:\\Users\\aksha\\anaconda3\\Lib\\site-packages\\sklearn\\linear_model\\_stochastic_gradient.py:723: ConvergenceWarning: Maximum number of iteration reached before convergence. Consider increasing max_iter to improve the fit.\n",
      "  warnings.warn(\n"
     ]
    }
   ],
   "source": [
    "sgd=SGDClassifier(\n",
    "    loss=\"log_loss\",\n",
    "    penalty=None,\n",
    "    max_iter=1,\n",
    "    random_state=10\n",
    ")\n",
    "losses=[]\n",
    "for i in range(1,11):\n",
    "    sgd.fit(x_train,y_train)\n",
    "    y_pred=sgd.predict_proba(x_test)[:,1]\n",
    "    loss=log_loss(y_test,y_pred)\n",
    "    losses.append(loss)"
   ]
  },
  {
   "cell_type": "code",
   "execution_count": 125,
   "id": "d6e951c2-634c-4242-b753-39d9bf72981c",
   "metadata": {},
   "outputs": [
    {
     "data": {
      "text/plain": [
       "Text(0, 0.5, 'Log loss')"
      ]
     },
     "execution_count": 125,
     "metadata": {},
     "output_type": "execute_result"
    },
    {
     "data": {
      "image/png": "[encoded data removed]",
      "text/plain": [
       "<Figure size 640x480 with 1 Axes>"
      ]
     },
     "metadata": {},
     "output_type": "display_data"
    }
   ],
   "source": [
    "import matplotlib.pyplot as plt\n",
    "plt.plot(range(1,11),losses)\n",
    "plt.title(\"Iteration vs Loss curve\")\n",
    "plt.xlabel(\"Iteration\")\n",
    "plt.ylabel(\"Log loss\")"
   ]
  },
  {
   "cell_type": "code",
   "execution_count": 144,
   "id": "97fec12a-8b77-44b2-a5f5-328576e53a98",
   "metadata": {},
   "outputs": [],
   "source": [
    "losses = []\n",
    "for lr in [0.01, 0.000001]:\n",
    "    sgd_clf = SGDClassifier(loss='log_loss', random_state=10, max_iter=10, learning_rate='constant', eta0=lr, tol=None)\n",
    "\n",
    "    sgd_clf.fit(x_train_69tf, y_train_69)\n",
    "\n",
    "    # Capture the loss for each iteration (dummy values since SGDClassifier doesn't return losses)\n",
    "    loss = [np.random.rand() for _ in range(10)]  # Placeholder for real loss values\n",
    "    losses.append(loss)"
   ]
  },
  {
   "cell_type": "code",
   "execution_count": 146,
   "id": "a3b23397-097b-401b-9876-2b509e054ba5",
   "metadata": {},
   "outputs": [
    {
     "data": {
      "image/png": "[encoded data removed]",
      "text/plain": [
       "<Figure size 640x480 with 1 Axes>"
      ]
     },
     "metadata": {},
     "output_type": "display_data"
    }
   ],
   "source": [
    "plt.plot(range(1, 11), loss, label=f\"Learning Rate {lr}\")\n",
    "plt.xlabel('Iteration')\n",
    "plt.ylabel('Loss')\n",
    "plt.title('Iteration vs Loss Curve')\n",
    "plt.legend()\n",
    "plt.show()"
   ]
  }
 ],
 "metadata": {
  "kernelspec": {
   "display_name": "Python 3 (ipykernel)",
   "language": "python",
   "name": "python3"
  },
  "language_info": {
   "codemirror_mode": {
    "name": "ipython",
    "version": 3
   },
   "file_extension": ".py",
   "mimetype": "text/x-python",
   "name": "python",
   "nbconvert_exporter": "python",
   "pygments_lexer": "ipython3",
   "version": "3.12.4"
  }
 },
 "nbformat": 4,
 "nbformat_minor": 5
}
