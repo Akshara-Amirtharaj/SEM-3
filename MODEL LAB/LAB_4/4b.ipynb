{
 "cells": [
  {
   "cell_type": "code",
   "execution_count": 4,
   "id": "68f071df-5a4a-485d-a07e-05f6389f5706",
   "metadata": {},
   "outputs": [],
   "source": [
    "import pandas as pd\n",
    "from sklearn.datasets import make_friedman1"
   ]
  },
  {
   "cell_type": "code",
   "execution_count": 11,
   "id": "1ae8539f-7914-46ce-afaf-088397c15aa3",
   "metadata": {},
   "outputs": [
    {
     "name": "stdout",
     "output_type": "stream",
     "text": [
      "   Feature_0  Feature_1  Feature_2  Feature_3  Feature_4  Feature_5  \\\n",
      "0   0.374540   0.950714   0.731994   0.598658   0.156019   0.155995   \n",
      "1   0.020584   0.969910   0.832443   0.212339   0.181825   0.183405   \n",
      "2   0.611853   0.139494   0.292145   0.366362   0.456070   0.785176   \n",
      "3   0.607545   0.170524   0.065052   0.948886   0.965632   0.808397   \n",
      "4   0.122038   0.495177   0.034389   0.909320   0.258780   0.662522   \n",
      "\n",
      "   Feature_6  Feature_7  Feature_8  Feature_9  \n",
      "0   0.058084   0.866176   0.601115   0.708073  \n",
      "1   0.304242   0.524756   0.431945   0.291229  \n",
      "2   0.199674   0.514234   0.592415   0.046450  \n",
      "3   0.304614   0.097672   0.684233   0.440152  \n",
      "4   0.311711   0.520068   0.546710   0.184854  \n",
      "0    16.838262\n",
      "1     5.869689\n",
      "2     9.457372\n",
      "3    21.298181\n",
      "4    16.610082\n",
      "Name: Target, dtype: float64\n"
     ]
    }
   ],
   "source": [
    "from sklearn.datasets import make_friedman1\n",
    "import pandas as pd\n",
    "\n",
    "# Load the Friedman1 dataset\n",
    "x, y = make_friedman1(n_samples=500, n_features=10, noise=0.0, random_state=42)\n",
    "\n",
    "# Convert to DataFrame for better handling\n",
    "x = pd.DataFrame(x, columns=[f'Feature_{i}' for i in range(x.shape[1])])\n",
    "y = pd.Series(y, name='Target')\n",
    "\n",
    "# Display the features and target\n",
    "print(x.head())\n",
    "print(y.head())\n"
   ]
  },
  {
   "cell_type": "code",
   "execution_count": 13,
   "id": "db43143a-9ade-4087-83ad-ce9c6a14ff07",
   "metadata": {},
   "outputs": [],
   "source": [
    "from sklearn.model_selection import train_test_split\n",
    "x_train,x_test,y_train,y_test=train_test_split(x,y,test_size=0.25)"
   ]
  },
  {
   "cell_type": "code",
   "execution_count": 17,
   "id": "8dfe10dd-e9a9-4da4-b502-df753c52e621",
   "metadata": {},
   "outputs": [
    {
     "data": {
      "text/plain": [
       "(375, 3)"
      ]
     },
     "execution_count": 17,
     "metadata": {},
     "output_type": "execute_result"
    }
   ],
   "source": [
    "from sklearn.feature_selection import RFE\n",
    "from sklearn.linear_model import LinearRegression\n",
    "selector=RFE(LinearRegression(),n_features_to_select=3)\n",
    "x_new=selector.fit_transform(x_train,y_train)\n",
    "x_new.shape"
   ]
  },
  {
   "cell_type": "code",
   "execution_count": 31,
   "id": "18500a1b-8d0c-440d-923a-2128b77da90e",
   "metadata": {},
   "outputs": [
    {
     "data": {
      "text/plain": [
       "array([1, 1, 6, 1, 2, 8, 3, 5, 7, 4])"
      ]
     },
     "execution_count": 31,
     "metadata": {},
     "output_type": "execute_result"
    }
   ],
   "source": [
    "selector.ranking_"
   ]
  },
  {
   "cell_type": "code",
   "execution_count": 33,
   "id": "64924fe1-d16b-45a8-9e40-017f0a81ec37",
   "metadata": {},
   "outputs": [
    {
     "data": {
      "text/html": [
       "<div>\n",
       "<style scoped>\n",
       "    .dataframe tbody tr th:only-of-type {\n",
       "        vertical-align: middle;\n",
       "    }\n",
       "\n",
       "    .dataframe tbody tr th {\n",
       "        vertical-align: top;\n",
       "    }\n",
       "\n",
       "    .dataframe thead th {\n",
       "        text-align: right;\n",
       "    }\n",
       "</style>\n",
       "<table border=\"1\" class=\"dataframe\">\n",
       "  <thead>\n",
       "    <tr style=\"text-align: right;\">\n",
       "      <th></th>\n",
       "      <th>features</th>\n",
       "      <th>rank</th>\n",
       "    </tr>\n",
       "  </thead>\n",
       "  <tbody>\n",
       "    <tr>\n",
       "      <th>0</th>\n",
       "      <td>Feature_0</td>\n",
       "      <td>1</td>\n",
       "    </tr>\n",
       "    <tr>\n",
       "      <th>1</th>\n",
       "      <td>Feature_1</td>\n",
       "      <td>1</td>\n",
       "    </tr>\n",
       "    <tr>\n",
       "      <th>2</th>\n",
       "      <td>Feature_2</td>\n",
       "      <td>6</td>\n",
       "    </tr>\n",
       "    <tr>\n",
       "      <th>3</th>\n",
       "      <td>Feature_3</td>\n",
       "      <td>1</td>\n",
       "    </tr>\n",
       "    <tr>\n",
       "      <th>4</th>\n",
       "      <td>Feature_4</td>\n",
       "      <td>2</td>\n",
       "    </tr>\n",
       "    <tr>\n",
       "      <th>5</th>\n",
       "      <td>Feature_5</td>\n",
       "      <td>8</td>\n",
       "    </tr>\n",
       "    <tr>\n",
       "      <th>6</th>\n",
       "      <td>Feature_6</td>\n",
       "      <td>3</td>\n",
       "    </tr>\n",
       "    <tr>\n",
       "      <th>7</th>\n",
       "      <td>Feature_7</td>\n",
       "      <td>5</td>\n",
       "    </tr>\n",
       "    <tr>\n",
       "      <th>8</th>\n",
       "      <td>Feature_8</td>\n",
       "      <td>7</td>\n",
       "    </tr>\n",
       "    <tr>\n",
       "      <th>9</th>\n",
       "      <td>Feature_9</td>\n",
       "      <td>4</td>\n",
       "    </tr>\n",
       "  </tbody>\n",
       "</table>\n",
       "</div>"
      ],
      "text/plain": [
       "    features  rank\n",
       "0  Feature_0     1\n",
       "1  Feature_1     1\n",
       "2  Feature_2     6\n",
       "3  Feature_3     1\n",
       "4  Feature_4     2\n",
       "5  Feature_5     8\n",
       "6  Feature_6     3\n",
       "7  Feature_7     5\n",
       "8  Feature_8     7\n",
       "9  Feature_9     4"
      ]
     },
     "execution_count": 33,
     "metadata": {},
     "output_type": "execute_result"
    }
   ],
   "source": [
    "rank=pd.DataFrame({\n",
    "    \"features\": x.columns,\n",
    "    \"rank\":selector.ranking_\n",
    "})\n",
    "rank"
   ]
  },
  {
   "cell_type": "code",
   "execution_count": 23,
   "id": "0d1b7e74-e31f-48fe-a09d-d04efec8feb1",
   "metadata": {},
   "outputs": [],
   "source": [
    "column=list(x.columns)"
   ]
  },
  {
   "cell_type": "code",
   "execution_count": 29,
   "id": "795bb144-21ef-4c00-943b-897155100422",
   "metadata": {},
   "outputs": [
    {
     "name": "stderr",
     "output_type": "stream",
     "text": [
      "C:\\Users\\aksha\\AppData\\Local\\Temp\\ipykernel_20532\\406865488.py:2: DeprecationWarning: In future, it will be an error for 'np.bool_' scalars to be interpreted as an index\n",
      "  features=[x[column[i]] for i in indices]\n"
     ]
    }
   ],
   "source": [
    "indices=selector.support_\n",
    "features=[x[column[i]] for i in indices]"
   ]
  },
  {
   "cell_type": "code",
   "execution_count": 49,
   "id": "2354af1a-0b34-49d8-99fa-74882f7028da",
   "metadata": {},
   "outputs": [
    {
     "data": {
      "text/plain": [
       "(375, 3)"
      ]
     },
     "execution_count": 49,
     "metadata": {},
     "output_type": "execute_result"
    }
   ],
   "source": [
    "from sklearn.feature_selection import SelectFromModel,SequentialFeatureSelector\n",
    "import numpy as np\n",
    "selector=SelectFromModel(LinearRegression(),max_features=3)\n",
    "x_new=selector.fit_transform(x_train,y_train)\n",
    "x_new.shape"
   ]
  },
  {
   "cell_type": "code",
   "execution_count": 65,
   "id": "9e070ed2-8d3b-4fc8-b395-31665d801b71",
   "metadata": {},
   "outputs": [
    {
     "name": "stdout",
     "output_type": "stream",
     "text": [
      "[ 7.83151803  6.95283459 -0.41006442  9.44483491  5.59125714  0.0429061\n",
      "  0.69586359  0.52363973  0.32418356  0.49200432]\n"
     ]
    }
   ],
   "source": [
    "model = selector.estimator_\n",
    "coefficients = model.coef_\n",
    "print(coefficients)"
   ]
  }
 ],
 "metadata": {
  "kernelspec": {
   "display_name": "Python 3 (ipykernel)",
   "language": "python",
   "name": "python3"
  },
  "language_info": {
   "codemirror_mode": {
    "name": "ipython",
    "version": 3
   },
   "file_extension": ".py",
   "mimetype": "text/x-python",
   "name": "python",
   "nbconvert_exporter": "python",
   "pygments_lexer": "ipython3",
   "version": "3.12.4"
  }
 },
 "nbformat": 4,
 "nbformat_minor": 5
}
